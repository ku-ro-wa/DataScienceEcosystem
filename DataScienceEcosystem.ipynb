{
 "cells": [
  {
   "cell_type": "markdown",
   "id": "ad5f5238-32ed-4eed-adfa-33171c2c16e5",
   "metadata": {},
   "source": [
    "# Data Science Ecosystem"
   ]
  },
  {
   "cell_type": "markdown",
   "id": "8a0449bc-0db4-4705-8366-d4b187a75188",
   "metadata": {},
   "source": [
    "In this notebook, Data Science Tools and Ecosystem are summarized.\n",
    "\n"
   ]
  },
  {
   "cell_type": "markdown",
   "id": "5da20461-f3c7-4592-881d-8e0ed2c61fc7",
   "metadata": {},
   "source": [
    "**Objectives**\n",
    "- List popular languages for Data Science\n",
    "- List commonly used libraries for Data Science\n",
    "- List common tools for Data Science\n",
    "- Evaluation of various arithmetic expressions in Python\n",
    "  "
   ]
  },
  {
   "cell_type": "markdown",
   "id": "a3a98a62-c6a1-4020-8fe7-60f00d1125ae",
   "metadata": {},
   "source": [
    "Some of the popular languages that Data Scientists use are:\n",
    "1. SQL\n",
    "2. Python\n",
    "3. R"
   ]
  },
  {
   "cell_type": "markdown",
   "id": "08284602-0081-40ee-9ca3-f990973b5a2d",
   "metadata": {},
   "source": [
    "Some of the commonly used libraries used by Data Scientists include:\n",
    "1. Pandas\n",
    "2. NumPy\n",
    "3. Matplotlib"
   ]
  },
  {
   "cell_type": "markdown",
   "id": "6d18ee8d-ff35-4b16-9889-daa0a1fd5e9e",
   "metadata": {},
   "source": [
    "|Data Science Tools|\n",
    "|---|\n",
    "|Apache|\n",
    "|Git|\n",
    "|VSCode|"
   ]
  },
  {
   "cell_type": "markdown",
   "id": "59f84598-3820-4bc8-bebd-f8795ca5ab97",
   "metadata": {},
   "source": [
    "### Below are a few examples of evaluating arithmetic expressions in Python.\n"
   ]
  },
  {
   "cell_type": "code",
   "execution_count": 18,
   "id": "e254f530-72a6-483e-b8fd-1813febafddf",
   "metadata": {},
   "outputs": [
    {
     "data": {
      "text/plain": [
       "17"
      ]
     },
     "execution_count": 18,
     "metadata": {},
     "output_type": "execute_result"
    }
   ],
   "source": [
    "# This a simple arithmetic expression to mutiply then add integers.\n",
    "(3*4)+5"
   ]
  },
  {
   "cell_type": "code",
   "execution_count": 20,
   "id": "7de2c799-cf39-4adc-8c07-58799f040cc6",
   "metadata": {},
   "outputs": [
    {
     "data": {
      "text/plain": [
       "3.3333333333333335"
      ]
     },
     "execution_count": 20,
     "metadata": {},
     "output_type": "execute_result"
    }
   ],
   "source": [
    "# This will convert 200 minutes to hours by diving by 60.\n",
    "200/60"
   ]
  },
  {
   "cell_type": "markdown",
   "id": "8ab313aa-d128-4ae2-bb5d-6a7ea2fc22d6",
   "metadata": {},
   "source": [
    "## Author\n",
    "Riley"
   ]
  },
  {
   "cell_type": "code",
   "execution_count": null,
   "id": "da53e276-f0cb-4fea-9797-8772a0a44bae",
   "metadata": {},
   "outputs": [],
   "source": []
  }
 ],
 "metadata": {
  "kernelspec": {
   "display_name": "Python [conda env:base] *",
   "language": "python",
   "name": "conda-base-py"
  },
  "language_info": {
   "codemirror_mode": {
    "name": "ipython",
    "version": 3
   },
   "file_extension": ".py",
   "mimetype": "text/x-python",
   "name": "python",
   "nbconvert_exporter": "python",
   "pygments_lexer": "ipython3",
   "version": "3.12.7"
  }
 },
 "nbformat": 4,
 "nbformat_minor": 5
}
